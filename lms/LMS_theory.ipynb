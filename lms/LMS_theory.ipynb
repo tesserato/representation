{
  "cells": [
    {
      "cell_type": "markdown",
      "source": [
        "# Least mean squares:\n",
        "\n",
        "Given:\n",
        "\n",
        "$$ X = [x_0, x_1, \\cdots ,x_{m-1}]^T $$\n",
        "\n",
        "$$ Y = [y_0, y_1, \\cdots ,y_{m-1}]^T $$\n",
        "\n",
        "$$ x^0_i a_0 + x^1_i  a_1 + \\cdots + x^{k-1}_i a_{k-1} + x^k_i a_k = y_i \\quad \\forall \\quad i \\in \\{0, \\cdots , m-1\\} $$\n",
        "\n",
        "$$\n",
        "\\stackrel{Q_{m \\times (k+1)}}\n",
        "{\n",
        "\\begin{bmatrix}\n",
        "1 & x_0 & \\cdots & x_0^k \\\\\n",
        "1 & x_1 & \\cdots & x_1^k \\\\\n",
        "\\vdots & \\vdots & \\ddots & \\vdots  \\\\\n",
        "1 & x_{m-1} & \\cdots & x_{m-1} \\\\\n",
        "\\end{bmatrix}\n",
        "}\n",
        "\\stackrel{A_{(k+1) \\times 1}}\n",
        "{\n",
        "\\begin{bmatrix}\n",
        "a_0 \\\\\n",
        "a_1 \\\\\n",
        "\\vdots  \\\\\n",
        "a_k \\\\\n",
        "\\end{bmatrix}\n",
        "}\n",
        "\\approx\n",
        "\\stackrel{Y_{m \\times 1}}\n",
        "{\n",
        "\\begin{bmatrix}\n",
        "y_0 \\\\\n",
        "y_1 \\\\\n",
        "\\vdots  \\\\\n",
        "y_{m-1} \\\\\n",
        "\\end{bmatrix}\n",
        "}\n",
        "$$\n",
        "\n",
        "$$ Q A \\approx Y $$\n",
        "\n",
        "$$ \\underset{A}{\\min} ||Q A - Y||^2_2 $$\n",
        "\n",
        "$$ A = (Q^TQ)^{-1}Q^TY $$"
      ],
      "metadata": {
        "nteract": {
          "transient": {
            "deleting": false
          }
        }
      }
    },
    {
      "cell_type": "code",
      "execution_count": 1,
      "metadata": {},
      "outputs": [
        {
          "output_type": "execute_result",
          "data": {
            "text/plain": [
              "Eq(Matrix([\n",
              "[x[0]**2*a[2, 0] + x[0]*a[1, 0] + a[0, 0]],\n",
              "[x[1]**2*a[2, 0] + x[1]*a[1, 0] + a[0, 0]],\n",
              "[x[2]**2*a[2, 0] + x[2]*a[1, 0] + a[0, 0]],\n",
              "[x[3]**2*a[2, 0] + x[3]*a[1, 0] + a[0, 0]]]), Matrix([\n",
              "[y[0, 0]],\n",
              "[y[1, 0]],\n",
              "[y[2, 0]],\n",
              "[y[3, 0]]]))"
            ],
            "text/latex": "$\\displaystyle \\left[\\begin{matrix}{x}_{0}^{2} a_{2, 0} + {x}_{0} a_{1, 0} + a_{0, 0}\\\\{x}_{1}^{2} a_{2, 0} + {x}_{1} a_{1, 0} + a_{0, 0}\\\\{x}_{2}^{2} a_{2, 0} + {x}_{2} a_{1, 0} + a_{0, 0}\\\\{x}_{3}^{2} a_{2, 0} + {x}_{3} a_{1, 0} + a_{0, 0}\\end{matrix}\\right] = \\left[\\begin{matrix}y_{0, 0}\\\\y_{1, 0}\\\\y_{2, 0}\\\\y_{3, 0}\\end{matrix}\\right]$"
          },
          "metadata": {},
          "execution_count": 1
        }
      ],
      "source": [
        "import sympy as sp\n",
        "x = sp.IndexedBase(\"x\", real=True)\n",
        "m = 4\n",
        "k = 2\n",
        "X = sp.MatrixSymbol(\"x\", m, 1)\n",
        "Y = sp.MatrixSymbol(\"y\", m, 1)\n",
        "A = sp.MatrixSymbol(\"a\", k + 1, 1)\n",
        "Q = sp.zeros(m, k + 1)\n",
        "for l in range(m):\n",
        "    for c in range(k + 1):\n",
        "        Q[l, c] = x[l]**c\n",
        "\n",
        "sp.Eq(Q * A.as_explicit(), Y.as_explicit())"
      ]
    },
    {
      "source": [
        "# Constrained\n",
        "\n",
        "$$ \\underset{A}{\\min} ||Q A - Y||^2_2 \\quad \\text{subject to} \\quad V A = B $$"
      ],
      "cell_type": "markdown",
      "metadata": {}
    },
    {
      "cell_type": "code",
      "execution_count": 2,
      "metadata": {},
      "outputs": [
        {
          "output_type": "execute_result",
          "data": {
            "text/plain": [
              "Eq(Matrix([\n",
              "[a[0, 0]*v[0, 0] + a[1, 0]*v[0, 1] + a[2, 0]*v[0, 2]],\n",
              "[a[0, 0]*v[1, 0] + a[1, 0]*v[1, 1] + a[2, 0]*v[1, 2]],\n",
              "[a[0, 0]*v[2, 0] + a[1, 0]*v[2, 1] + a[2, 0]*v[2, 2]],\n",
              "[a[0, 0]*v[3, 0] + a[1, 0]*v[3, 1] + a[2, 0]*v[3, 2]],\n",
              "[a[0, 0]*v[4, 0] + a[1, 0]*v[4, 1] + a[2, 0]*v[4, 2]]]), Matrix([\n",
              "[b[0, 0]],\n",
              "[b[1, 0]],\n",
              "[b[2, 0]],\n",
              "[b[3, 0]],\n",
              "[b[4, 0]]]))"
            ],
            "text/latex": "$\\displaystyle \\left[\\begin{matrix}a_{0, 0} v_{0, 0} + a_{1, 0} v_{0, 1} + a_{2, 0} v_{0, 2}\\\\a_{0, 0} v_{1, 0} + a_{1, 0} v_{1, 1} + a_{2, 0} v_{1, 2}\\\\a_{0, 0} v_{2, 0} + a_{1, 0} v_{2, 1} + a_{2, 0} v_{2, 2}\\\\a_{0, 0} v_{3, 0} + a_{1, 0} v_{3, 1} + a_{2, 0} v_{3, 2}\\\\a_{0, 0} v_{4, 0} + a_{1, 0} v_{4, 1} + a_{2, 0} v_{4, 2}\\end{matrix}\\right] = \\left[\\begin{matrix}b_{0, 0}\\\\b_{1, 0}\\\\b_{2, 0}\\\\b_{3, 0}\\\\b_{4, 0}\\end{matrix}\\right]$"
          },
          "metadata": {},
          "execution_count": 2
        }
      ],
      "source": [
        "n = 5\n",
        "V = sp.MatrixSymbol(\"v\", n, k + 1)\n",
        "B = sp.MatrixSymbol(\"b\", n, 1)\n",
        "Q = sp.MatrixSymbol(\"q\", m, k + 1)\n",
        "\n",
        "sp.Eq(V.as_explicit() * A.as_explicit(), B.as_explicit())"
      ]
    },
    {
      "cell_type": "code",
      "execution_count": 5,
      "metadata": {},
      "outputs": [
        {
          "output_type": "execute_result",
          "data": {
            "text/plain": [
              "(q.T*q)**(-1)*(q.T*y - v.T*(v*(q.T*q)**(-1)*v.T)**(-1)*v*(q.T*q)**(-1)*q.T*y)"
            ],
            "text/latex": "$\\displaystyle \\left(q^{T} q\\right)^{-1} \\left(q^{T} y - v^{T} \\left(v \\left(q^{T} q\\right)^{-1} v^{T}\\right)^{-1} v \\left(q^{T} q\\right)^{-1} q^{T} y\\right)$"
          },
          "metadata": {},
          "execution_count": 5
        }
      ],
      "source": [
        "QTQinv = (Q.T @ Q).inv()\n",
        "tau = (V @ QTQinv @ V.T).inv()\n",
        "QTY = Q.T @ Y\n",
        "A = QTQinv @ (QTY - V.T @ tau @ V @ QTQinv @ QTY)\n",
        "A"
      ]
    },
    {
      "cell_type": "code",
      "execution_count": 9,
      "metadata": {},
      "outputs": [
        {
          "output_type": "execute_result",
          "data": {
            "text/plain": [
              "a[1]"
            ],
            "text/latex": "$\\displaystyle {a}_{1}$"
          },
          "metadata": {},
          "execution_count": 9
        }
      ],
      "source": [
        "a = sp.IndexedBase(\"a\", real=True)\n",
        "a[1]"
      ]
    },
    {
      "cell_type": "code",
      "execution_count": 25,
      "metadata": {},
      "outputs": [
        {
          "output_type": "execute_result",
          "data": {
            "text/plain": [
              "x_i**6*a[6] + x_i**5*a[5] + x_i**4*a[4] + x_i**3*a[3] + x_i**2*a[2] + x_i*a[1] + a[0]"
            ],
            "text/latex": "$\\displaystyle x_{i}^{6} {a}_{6} + x_{i}^{5} {a}_{5} + x_{i}^{4} {a}_{4} + x_{i}^{3} {a}_{3} + x_{i}^{2} {a}_{2} + x_{i} {a}_{1} + {a}_{0}$"
          },
          "metadata": {},
          "execution_count": 25
        }
      ],
      "source": [
        "xi = sp.symbols(\"x_i\", real=True)\n",
        "k = 6\n",
        "p = 0\n",
        "for i in range(k + 1):\n",
        "    p += xi**i * a[i]\n",
        "p"
      ]
    },
    {
      "cell_type": "code",
      "execution_count": 26,
      "metadata": {},
      "outputs": [
        {
          "output_type": "execute_result",
          "data": {
            "text/plain": [
              "6*x_i**5*a[6] + 5*x_i**4*a[5] + 4*x_i**3*a[4] + 3*x_i**2*a[3] + 2*x_i*a[2] + a[1]"
            ],
            "text/latex": "$\\displaystyle 6 x_{i}^{5} {a}_{6} + 5 x_{i}^{4} {a}_{5} + 4 x_{i}^{3} {a}_{4} + 3 x_{i}^{2} {a}_{3} + 2 x_{i} {a}_{2} + {a}_{1}$"
          },
          "metadata": {},
          "execution_count": 26
        }
      ],
      "source": [
        "p.diff(xi)"
      ]
    },
    {
      "cell_type": "code",
      "execution_count": 27,
      "metadata": {},
      "outputs": [
        {
          "output_type": "execute_result",
          "data": {
            "text/plain": [
              "[]"
            ]
          },
          "metadata": {},
          "execution_count": 27
        }
      ],
      "source": [
        "sp.solve(p.diff(xi), xi)"
      ]
    },
    {
      "cell_type": "code",
      "execution_count": 23,
      "metadata": {},
      "outputs": [
        {
          "output_type": "execute_result",
          "data": {
            "text/plain": [
              "-(sqrt(-3*a[1]*a[3] + a[2]**2) + a[2])/(3*a[3])"
            ],
            "text/latex": "$\\displaystyle - \\frac{\\sqrt{- 3 {a}_{1} {a}_{3} + {a}_{2}^{2}} + {a}_{2}}{3 {a}_{3}}$"
          },
          "metadata": {},
          "execution_count": 23
        }
      ],
      "source": [
        "sp.solve(p.diff(xi), xi)[1]"
      ]
    }
  ],
  "metadata": {
    "colab": {
      "name": "LMS.ipynb",
      "provenance": [],
      "collapsed_sections": []
    },
    "kernelspec": {
      "name": "python38164bit4dd4b799af3b48fcbbcd6aea0c620513",
      "language": "python",
      "display_name": "Python 3.8.1 64-bit"
    },
    "kernel_info": {
      "name": "python38164bit4dd4b799af3b48fcbbcd6aea0c620513"
    },
    "language_info": {
      "name": "python",
      "version": "3.8.1-final",
      "mimetype": "text/x-python",
      "codemirror_mode": {
        "name": "ipython",
        "version": 3
      },
      "pygments_lexer": "ipython3",
      "nbconvert_exporter": "python",
      "file_extension": ".py"
    },
    "nteract": {
      "version": "0.24.0"
    }
  },
  "nbformat": 4,
  "nbformat_minor": 0
}