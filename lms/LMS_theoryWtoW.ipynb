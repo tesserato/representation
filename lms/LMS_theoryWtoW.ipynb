{
  "cells": [
    {
      "cell_type": "code",
      "execution_count": 9,
      "metadata": {},
      "outputs": [
        {
          "output_type": "execute_result",
          "data": {
            "text/plain": [
              "x**3*Derivative(f(x), x)*a[3] + 3*x**2*f(x)*a[3] + x**2*Derivative(f(x), x)*a[2] + 2*x*f(x)*a[2] + x*Derivative(f(x), x)*a[1] + f(x)*a[1] + Derivative(f(x), x)*a[0]"
            ],
            "text/latex": "$\\displaystyle x^{3} \\frac{d}{d x} f{\\left(x \\right)} {a}_{3} + 3 x^{2} f{\\left(x \\right)} {a}_{3} + x^{2} \\frac{d}{d x} f{\\left(x \\right)} {a}_{2} + 2 x f{\\left(x \\right)} {a}_{2} + x \\frac{d}{d x} f{\\left(x \\right)} {a}_{1} + f{\\left(x \\right)} {a}_{1} + \\frac{d}{d x} f{\\left(x \\right)} {a}_{0}$"
          },
          "metadata": {},
          "execution_count": 9
        }
      ],
      "source": [
        "import sympy as sp\n",
        "x = sp.Symbol(\"x\", real=True)\n",
        "a = sp.IndexedBase(\"a\", real=True)\n",
        "f = sp.Function(\"f\")(x)\n",
        "k = 3\n",
        "\n",
        "y = 0\n",
        "for c in range(k + 1):\n",
        "    y += a[c] * x**c\n",
        "\n",
        "sp.diff(y * f, x).expand()"
      ]
    },
    {
      "cell_type": "code",
      "execution_count": 8,
      "metadata": {},
      "outputs": [
        {
          "output_type": "execute_result",
          "data": {
            "text/plain": [
              "x**3*a[3] + x**2*a[2] + x*a[1] + a[0]"
            ],
            "text/latex": "$\\displaystyle x^{3} {a}_{3} + x^{2} {a}_{2} + x {a}_{1} + {a}_{0}$"
          },
          "metadata": {},
          "execution_count": 8
        }
      ],
      "source": [
        "y"
      ]
    }
  ],
  "metadata": {
    "colab": {
      "name": "LMS.ipynb",
      "provenance": [],
      "collapsed_sections": []
    },
    "kernelspec": {
      "name": "python38164bit4dd4b799af3b48fcbbcd6aea0c620513",
      "language": "python",
      "display_name": "Python 3.8.1 64-bit"
    },
    "kernel_info": {
      "name": "python38164bit4dd4b799af3b48fcbbcd6aea0c620513"
    },
    "language_info": {
      "name": "python",
      "version": "3.8.1-final",
      "mimetype": "text/x-python",
      "codemirror_mode": {
        "name": "ipython",
        "version": 3
      },
      "pygments_lexer": "ipython3",
      "nbconvert_exporter": "python",
      "file_extension": ".py"
    },
    "nteract": {
      "version": "0.24.0"
    }
  },
  "nbformat": 4,
  "nbformat_minor": 0
}