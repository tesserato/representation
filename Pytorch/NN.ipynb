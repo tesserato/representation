{
  "cells": [
    {
      "cell_type": "markdown",
      "source": [
        "![document.png](attachment:document.png)"
      ],
      "metadata": {}
    },
    {
      "cell_type": "markdown",
      "source": [
        "# Definitions\n",
        "\n",
        "$ W_{m \\times n} =\n",
        "\\begin{bmatrix}\n",
        "w_{11} & \\cdots & w_{1n} \\\\\n",
        "\\vdots & \\ddots & \\vdots \\\\\n",
        "w_{m1} & \\cdots & w_{mn}\n",
        "\\end{bmatrix}$ weight matrix\n",
        "\n",
        "$I_{1 \\times m} = [i_1 \\cdots i_m]$ input vector\n",
        "\n",
        "$O_{1 \\times n} = [o_1 \\cdots o_n]$ output vector, where $o_\\alpha = f\\Big(\\overbrace{w_{1\\alpha}i_1+ \\cdots + w_{m\\alpha}i_m}^{a_\\alpha}\\Big)$\n",
        "\n",
        "$T_{1 \\times n} = [t_1 \\cdots t_n]$ target vector\n",
        "\n",
        "$$l = \\frac{\\epsilon(o_1, t_1) + \\cdots + \\epsilon(o_n, t_n)}{n} = \\frac{1}{n} \\Big(\\epsilon\\big(\\overbrace{f(w_{11}i_1+ \\cdots + w_{m1}i_m)}^{o_1}, t_1\\big) + \\cdots + \\epsilon\\big(\\overbrace{f(w_{1n}i_1+ \\cdots + w_{mn}i_m)}^{o_n}, t_n\\big)\\Big)$$\n",
        "\n",
        "\n",
        "# Backward pass\n",
        "$$ \\frac{\\partial l}{\\partial w_{\\alpha \\beta}} = \\frac{1}{n} \\frac{\\partial\\epsilon(o_\\alpha, t_\\alpha)}{\\partial o_\\alpha} \\frac{\\partial f(a_\\alpha)}{\\partial a_\\alpha} i_\\beta $$"
      ],
      "metadata": {}
    },
    {
      "cell_type": "markdown",
      "source": [
        "# Example:\n",
        "$$\\epsilon(o_\\alpha, t_\\alpha) =  (o_\\alpha - t_\\alpha)^2 \\therefore \\frac{\\partial\\epsilon(o_\\alpha, t_\\alpha)}{\\partial o_\\alpha} = 2(o_\\alpha - t_\\alpha)$$\n",
        "\n",
        "$$f(a_\\alpha) = \\tanh(a_\\alpha) \\therefore \\frac{\\partial f(a_\\alpha)}{\\partial a_\\alpha}=1 - \\tanh^2(a_\\alpha)$$\n",
        "\n",
        "***\n",
        "\n",
        "$$ \\frac{\\partial l}{\\partial w_{\\alpha \\beta}} = \\Big(\\frac{2}{n}\\Big)(o_\\alpha - t_\\alpha) \\big(1 - \\tanh^2(a_\\alpha)\\big) i_\\beta $$"
      ],
      "metadata": {}
    },
    {
      "cell_type": "markdown",
      "source": [
        "# Imports & definitions"
      ],
      "metadata": {}
    },
    {
      "cell_type": "code",
      "source": [
        "import torch\n",
        "import numpy as np\n",
        "\n",
        "np.random.seed(0)\n",
        "torch.set_default_tensor_type('torch.DoubleTensor')\n",
        "m = 10    # input\n",
        "n = 5     # output"
      ],
      "outputs": [],
      "execution_count": 1,
      "metadata": {}
    },
    {
      "cell_type": "markdown",
      "source": [
        "# Numpy"
      ],
      "metadata": {}
    },
    {
      "cell_type": "code",
      "source": [
        "I = np.random.random_sample((m))\n",
        "T = np.random.random_sample((n))\n",
        "W = np.random.random_sample((m, n))\n",
        "A = I @ W\n",
        "O = np.tanh(A)\n",
        "l = np.average((O-T)**2)\n",
        "dl = np.matmul(np.reshape(I,(m,-1)), np.reshape((2/n)*(O-T)*(1-np.tanh(A)**2),(-1,n)))"
      ],
      "outputs": [],
      "execution_count": 2,
      "metadata": {}
    },
    {
      "cell_type": "markdown",
      "source": [
        "# Pytorch"
      ],
      "metadata": {}
    },
    {
      "cell_type": "code",
      "source": [
        "I_t = torch.tensor(I)\n",
        "T_t = torch.tensor(T)\n",
        "W_t = torch.tensor(W, requires_grad=True)\n",
        "A_t = I_t @ W_t\n",
        "O_t = torch.tanh(A_t)\n",
        "l_t = (O_t-T_t).pow(2).mean()\n",
        "l_t.backward()\n",
        "dl_t = W_t.grad.data"
      ],
      "outputs": [],
      "execution_count": 3,
      "metadata": {}
    },
    {
      "cell_type": "code",
      "source": [
        "print(np.allclose(dl, dl_t.numpy()))"
      ],
      "outputs": [
        {
          "output_type": "stream",
          "name": "stdout",
          "text": [
            "True\n"
          ]
        }
      ],
      "execution_count": 4,
      "metadata": {}
    },
    {
      "cell_type": "markdown",
      "source": [
        "# Pytorch.nn Linear"
      ],
      "metadata": {}
    },
    {
      "cell_type": "code",
      "source": [
        "linear = torch.nn.Linear(m, n, bias=False)\n",
        "with torch.no_grad():\n",
        "    linear.weight.copy_(W_t.data.t())\n",
        "O_l = torch.tanh(linear(I_t))\n",
        "criterion = torch.nn.MSELoss()\n",
        "l_l = criterion(O_l, T_t)\n",
        "linear.zero_grad()\n",
        "l_l.backward()\n",
        "dl_l = linear.weight.grad.data"
      ],
      "outputs": [],
      "execution_count": 5,
      "metadata": {}
    },
    {
      "cell_type": "code",
      "source": [
        "print(np.allclose(dl, dl_l.numpy().T))"
      ],
      "outputs": [
        {
          "output_type": "stream",
          "name": "stdout",
          "text": [
            "True\n"
          ]
        }
      ],
      "execution_count": 6,
      "metadata": {}
    },
    {
      "cell_type": "code",
      "source": [
        "print(np.allclose(O, O_l.detach().numpy()))"
      ],
      "outputs": [
        {
          "output_type": "stream",
          "name": "stdout",
          "text": [
            "True\n"
          ]
        }
      ],
      "execution_count": 7,
      "metadata": {}
    },
    {
      "cell_type": "code",
      "source": [
        "print(O)"
      ],
      "outputs": [
        {
          "output_type": "stream",
          "name": "stdout",
          "text": [
            "[0.99248036 0.99244429 0.99889554 0.99232696 0.97565233]\n"
          ]
        }
      ],
      "execution_count": 25,
      "metadata": {}
    },
    {
      "cell_type": "code",
      "source": [
        "print(O_l.detach().numpy())"
      ],
      "outputs": [
        {
          "output_type": "stream",
          "name": "stdout",
          "text": [
            "[0.99248036 0.99244429 0.99889554 0.99232696 0.97565233]\n"
          ]
        }
      ],
      "execution_count": 26,
      "metadata": {}
    }
  ],
  "metadata": {
    "kernelspec": {
      "name": "python3",
      "language": "python",
      "display_name": "Python 3"
    },
    "language_info": {
      "name": "python",
      "version": "3.7.3",
      "mimetype": "text/x-python",
      "codemirror_mode": {
        "name": "ipython",
        "version": 3
      },
      "pygments_lexer": "ipython3",
      "nbconvert_exporter": "python",
      "file_extension": ".py"
    },
    "kernel_info": {
      "name": "python3"
    },
    "nteract": {
      "version": "0.14.3"
    }
  },
  "nbformat": 4,
  "nbformat_minor": 2
}